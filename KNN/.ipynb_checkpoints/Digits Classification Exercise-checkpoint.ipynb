{
 "cells": [
  {
   "cell_type": "markdown",
   "metadata": {},
   "source": [
    "\n",
    "# Digits Classification Exercise\n",
    "\n",
    "This example is about digits classsification. The code is modified based on th example at https://scikit-learn.org/stable/auto_examples/exercises/plot_digits_classification_exercise.html#sphx-glr-auto-examples-exercises-plot-digits-classification-exercise-py\n"
   ]
  },
  {
   "cell_type": "code",
   "execution_count": 5,
   "metadata": {},
   "outputs": [],
   "source": [
    "from sklearn import datasets, neighbors, linear_model\n",
    "\n",
    "X_digits, y_digits = datasets.load_digits(return_X_y=True)\n",
    "X_digits = X_digits / X_digits.max()\n",
    "\n",
    "n_samples = len(X_digits)\n",
    "\n"
   ]
  },
  {
   "cell_type": "code",
   "execution_count": 6,
   "metadata": {},
   "outputs": [],
   "source": [
    "X_train = X_digits[: int(0.9 * n_samples)]\n",
    "y_train = y_digits[: int(0.9 * n_samples)]\n",
    "X_test = X_digits[int(0.9 * n_samples) :]\n",
    "y_test = y_digits[int(0.9 * n_samples) :]\n"
   ]
  },
  {
   "cell_type": "code",
   "execution_count": 11,
   "metadata": {},
   "outputs": [
    {
     "name": "stdout",
     "output_type": "stream",
     "text": [
      "(1617, 64)\n",
      "[[0.     0.     0.3125 0.8125 0.5625 0.0625 0.     0.    ]\n",
      " [0.     0.     0.8125 0.9375 0.625  0.9375 0.3125 0.    ]\n",
      " [0.     0.1875 0.9375 0.125  0.     0.6875 0.5    0.    ]\n",
      " [0.     0.25   0.75   0.     0.     0.5    0.5    0.    ]\n",
      " [0.     0.3125 0.5    0.     0.     0.5625 0.5    0.    ]\n",
      " [0.     0.25   0.6875 0.     0.0625 0.75   0.4375 0.    ]\n",
      " [0.     0.125  0.875  0.3125 0.625  0.75   0.     0.    ]\n",
      " [0.     0.     0.375  0.8125 0.625  0.     0.     0.    ]]\n"
     ]
    }
   ],
   "source": [
    "import numpy as np\n",
    "# in total 1617 \n",
    "print(X_train.shape)\n",
    "# each digit has 8*8 pixels\n",
    "print(np.reshape(X_train[0],(8,8)))"
   ]
  },
  {
   "cell_type": "code",
   "execution_count": 17,
   "metadata": {},
   "outputs": [
    {
     "name": "stdout",
     "output_type": "stream",
     "text": [
      "Current K: 1 KNN score:  0.9666666666666667\n",
      "Current K: 2 KNN score:  0.9777777777777777\n",
      "Current K: 3 KNN score:  0.9666666666666667\n",
      "Current K: 4 KNN score:  0.9666666666666667\n",
      "Current K: 5 KNN score:  0.9611111111111111\n",
      "Current K: 6 KNN score:  0.9611111111111111\n",
      "Current K: 7 KNN score:  0.9611111111111111\n",
      "Current K: 8 KNN score:  0.9611111111111111\n",
      "Current K: 9 KNN score:  0.9611111111111111\n",
      "besk_k_accuracy is 0.9777777777777777\n",
      "best_k is 2\n"
     ]
    }
   ],
   "source": [
    "possible_k = range(1,10)\n",
    "best_k = 0\n",
    "best_k_accuracy = 0\n",
    "for k in possible_k:\n",
    "    # TODO train KNNs and calculate accuracy\n",
    "    # find best K\n",
    "        \n",
    "print(\"besk_k_accuracy is\", best_k_accuracy)\n",
    "print(\"best_k is\", best_k)\n"
   ]
  },
  {
   "cell_type": "code",
   "execution_count": null,
   "metadata": {},
   "outputs": [],
   "source": []
  }
 ],
 "metadata": {
  "kernelspec": {
   "display_name": "Python 3",
   "language": "python",
   "name": "python3"
  },
  "language_info": {
   "codemirror_mode": {
    "name": "ipython",
    "version": 3
   },
   "file_extension": ".py",
   "mimetype": "text/x-python",
   "name": "python",
   "nbconvert_exporter": "python",
   "pygments_lexer": "ipython3",
   "version": "3.8.10"
  }
 },
 "nbformat": 4,
 "nbformat_minor": 1
}
