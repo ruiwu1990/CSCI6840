{
 "cells": [
  {
   "cell_type": "markdown",
   "metadata": {},
   "source": [
    "## KNN Imputation\n",
    "\n",
    "In this example, we use KNN to impute missing data. The example is based on https://machinelearningmastery.com/knn-imputation-for-missing-values-in-machine-learning/."
   ]
  },
  {
   "cell_type": "code",
   "execution_count": 30,
   "metadata": {},
   "outputs": [
    {
     "name": "stdout",
     "output_type": "stream",
     "text": [
      "    0   1        2     3      4     5    6    7    8    9   ...    18    19  \\\n",
      "0  2.0   1   530101  38.5   66.0  28.0  3.0  3.0  NaN  2.0  ...  45.0   8.4   \n",
      "1  1.0   1   534817  39.2   88.0  20.0  NaN  NaN  4.0  1.0  ...  50.0  85.0   \n",
      "2  2.0   1   530334  38.3   40.0  24.0  1.0  1.0  3.0  1.0  ...  33.0   6.7   \n",
      "3  1.0   9  5290409  39.1  164.0  84.0  4.0  1.0  6.0  2.0  ...  48.0   7.2   \n",
      "4  2.0   1   530255  37.3  104.0  35.0  NaN  NaN  6.0  2.0  ...  74.0   7.4   \n",
      "\n",
      "    20   21   22  23     24  25  26  27  \n",
      "0  NaN  NaN  2.0   2  11300   0   0   2  \n",
      "1  2.0  2.0  3.0   2   2208   0   0   2  \n",
      "2  NaN  NaN  1.0   2      0   0   0   1  \n",
      "3  3.0  5.3  2.0   1   2208   0   0   1  \n",
      "4  NaN  NaN  2.0   2   4300   0   0   2  \n",
      "\n",
      "[5 rows x 28 columns]\n"
     ]
    }
   ],
   "source": [
    "import numpy as np\n",
    "import pandas as pd\n",
    "\n",
    "dataframe = pd.read_csv('../horse_colic.csv', header=None, na_values='?')\n",
    "\n",
    "# summarize the first few rows\n",
    "print(dataframe.head())"
   ]
  },
  {
   "cell_type": "code",
   "execution_count": 31,
   "metadata": {},
   "outputs": [
    {
     "name": "stdout",
     "output_type": "stream",
     "text": [
      "> 0, Missing: 1 (0.3%)\n",
      "> 1, Missing: 0 (0.0%)\n",
      "> 2, Missing: 0 (0.0%)\n",
      "> 3, Missing: 60 (20.0%)\n",
      "> 4, Missing: 24 (8.0%)\n",
      "> 5, Missing: 58 (19.3%)\n",
      "> 6, Missing: 56 (18.7%)\n",
      "> 7, Missing: 69 (23.0%)\n",
      "> 8, Missing: 47 (15.7%)\n",
      "> 9, Missing: 32 (10.7%)\n",
      "> 10, Missing: 55 (18.3%)\n",
      "> 11, Missing: 44 (14.7%)\n",
      "> 12, Missing: 56 (18.7%)\n",
      "> 13, Missing: 104 (34.7%)\n",
      "> 14, Missing: 106 (35.3%)\n",
      "> 15, Missing: 247 (82.3%)\n",
      "> 16, Missing: 102 (34.0%)\n",
      "> 17, Missing: 118 (39.3%)\n",
      "> 18, Missing: 29 (9.7%)\n",
      "> 19, Missing: 33 (11.0%)\n",
      "> 20, Missing: 165 (55.0%)\n",
      "> 21, Missing: 198 (66.0%)\n",
      "> 22, Missing: 1 (0.3%)\n",
      "> 23, Missing: 0 (0.0%)\n",
      "> 24, Missing: 0 (0.0%)\n",
      "> 25, Missing: 0 (0.0%)\n",
      "> 26, Missing: 0 (0.0%)\n",
      "> 27, Missing: 0 (0.0%)\n"
     ]
    }
   ],
   "source": [
    "# summarize the number of rows with missing values for each column\n",
    "# it seems we have missing data anywhere...\n",
    "for i in range(dataframe.shape[1]):\n",
    "\t# count number of rows with missing values\n",
    "\tn_miss = dataframe[[i]].isnull().sum()\n",
    "\tperc = n_miss / dataframe.shape[0] * 100\n",
    "\tprint('> %d, Missing: %d (%.1f%%)' % (i, n_miss, perc))"
   ]
  },
  {
   "cell_type": "markdown",
   "metadata": {},
   "source": [
    "## Multivariate KNN Imputation \n",
    "\n",
    "Let's say try to fill all continous value column, i.e., X. 23rd column is a categorical variable. Let's ignore it for now. The 23rd column is also our y."
   ]
  },
  {
   "cell_type": "code",
   "execution_count": 32,
   "metadata": {},
   "outputs": [
    {
     "name": "stdout",
     "output_type": "stream",
     "text": [
      "X is [[2.000000e+00 1.000000e+00 5.301010e+05 3.850000e+01 6.600000e+01\n",
      "  2.800000e+01 3.000000e+00 3.000000e+00          nan 2.000000e+00\n",
      "  5.000000e+00 4.000000e+00 4.000000e+00          nan          nan\n",
      "           nan 3.000000e+00 5.000000e+00 4.500000e+01 8.400000e+00\n",
      "           nan          nan 2.000000e+00 1.130000e+04 0.000000e+00\n",
      "  0.000000e+00 2.000000e+00]\n",
      " [1.000000e+00 1.000000e+00 5.348170e+05 3.920000e+01 8.800000e+01\n",
      "  2.000000e+01          nan          nan 4.000000e+00 1.000000e+00\n",
      "  3.000000e+00 4.000000e+00 2.000000e+00          nan          nan\n",
      "           nan 4.000000e+00 2.000000e+00 5.000000e+01 8.500000e+01\n",
      "  2.000000e+00 2.000000e+00 3.000000e+00 2.208000e+03 0.000000e+00\n",
      "  0.000000e+00 2.000000e+00]\n",
      " [2.000000e+00 1.000000e+00 5.303340e+05 3.830000e+01 4.000000e+01\n",
      "  2.400000e+01 1.000000e+00 1.000000e+00 3.000000e+00 1.000000e+00\n",
      "  3.000000e+00 3.000000e+00 1.000000e+00          nan          nan\n",
      "           nan 1.000000e+00 1.000000e+00 3.300000e+01 6.700000e+00\n",
      "           nan          nan 1.000000e+00 0.000000e+00 0.000000e+00\n",
      "  0.000000e+00 1.000000e+00]\n",
      " [1.000000e+00 9.000000e+00 5.290409e+06 3.910000e+01 1.640000e+02\n",
      "  8.400000e+01 4.000000e+00 1.000000e+00 6.000000e+00 2.000000e+00\n",
      "  2.000000e+00 4.000000e+00 4.000000e+00 1.000000e+00 2.000000e+00\n",
      "  5.000000e+00 3.000000e+00          nan 4.800000e+01 7.200000e+00\n",
      "  3.000000e+00 5.300000e+00 2.000000e+00 2.208000e+03 0.000000e+00\n",
      "  0.000000e+00 1.000000e+00]\n",
      " [2.000000e+00 1.000000e+00 5.302550e+05 3.730000e+01 1.040000e+02\n",
      "  3.500000e+01          nan          nan 6.000000e+00 2.000000e+00\n",
      "           nan          nan          nan          nan          nan\n",
      "           nan          nan          nan 7.400000e+01 7.400000e+00\n",
      "           nan          nan 2.000000e+00 4.300000e+03 0.000000e+00\n",
      "  0.000000e+00 2.000000e+00]]\n",
      "y is [2. 2. 2. 1. 2.]\n"
     ]
    }
   ],
   "source": [
    "from sklearn.impute import KNNImputer\n",
    "\n",
    "# split into input and output elements\n",
    "data = dataframe.values\n",
    "ix = [i for i in range(data.shape[1]) if i != 23]\n",
    "X, y = data[:, ix], data[:, 23]\n",
    "\n",
    "print(\"X is\", X[:5])\n",
    "# y has no missing values, which can be checked from the previous cell outputs\n",
    "print(\"y is\", y[:5])"
   ]
  },
  {
   "cell_type": "code",
   "execution_count": 33,
   "metadata": {},
   "outputs": [
    {
     "name": "stdout",
     "output_type": "stream",
     "text": [
      "Missing: 1605\n",
      "Missing: 0\n"
     ]
    }
   ],
   "source": [
    "# print total missing\n",
    "print('Missing: %d' % sum(np.isnan(X).flatten()))\n",
    "# define imputer\n",
    "imputer = KNNImputer()\n",
    "# fit on the dataset\n",
    "imputer.fit(X)\n",
    "# transform the dataset\n",
    "Xtrans = imputer.transform(X)\n",
    "# print total missing\n",
    "print('Missing: %d' % sum(np.isnan(Xtrans).flatten()))"
   ]
  },
  {
   "cell_type": "markdown",
   "metadata": {},
   "source": [
    "## Group Activity 8\n",
    "\n",
    "If our target y is 23 col and features are other cols, what will be the impacts of K on the accuracy?"
   ]
  },
  {
   "cell_type": "code",
   "execution_count": 36,
   "metadata": {},
   "outputs": [
    {
     "name": "stdout",
     "output_type": "stream",
     "text": [
      ">1 0.854 (0.052)\n",
      ">3 0.864 (0.054)\n",
      ">5 0.867 (0.056)\n",
      ">7 0.862 (0.054)\n",
      ">9 0.859 (0.053)\n",
      ">15 0.863 (0.055)\n",
      ">18 0.866 (0.056)\n",
      ">21 0.861 (0.057)\n"
     ]
    },
    {
     "data": {
      "image/png": "[encoded data removed]",
      "text/plain": [
       "<Figure size 432x288 with 1 Axes>"
      ]
     },
     "metadata": {
      "needs_background": "light"
     },
     "output_type": "display_data"
    }
   ],
   "source": [
    "# compare knn imputation strategies for the horse colic dataset\n",
    "from numpy import mean\n",
    "from numpy import std\n",
    "from pandas import read_csv\n",
    "from sklearn.ensemble import RandomForestClassifier\n",
    "from sklearn.impute import KNNImputer\n",
    "from sklearn.model_selection import cross_val_score\n",
    "from sklearn.model_selection import RepeatedStratifiedKFold\n",
    "from sklearn.pipeline import Pipeline\n",
    "from matplotlib import pyplot\n",
    "# load dataset\n",
    "dataframe = read_csv('../horse_colic.csv', header=None, na_values='?')\n",
    "# split into input and output elements\n",
    "data = dataframe.values\n",
    "ix = [i for i in range(data.shape[1]) if i != 23]\n",
    "X, y = data[:, ix], data[:, 23]\n",
    "\n",
    "\n",
    "# evaluate each strategy on the dataset\n",
    "results = list()\n",
    "strategies = [1,3,5,7,9,15,18,21]\n",
    "for s in strategies:\n",
    "\t# create the modeling pipeline\n",
    "\t# TODO in each step, you can have (step_name, what_to_do)\n",
    "\t# TODO first data imputation, then classification\n",
    "\tpipeline = Pipeline(steps=[('i', '''TODO'''), ('m', '''TODO''')])\n",
    "\t# evaluate the model\n",
    "\t# TODO 10-fold, repeat 3 times\n",
    "\t# TODO https://scikit-learn.org/stable/modules/generated/sklearn.model_selection.RepeatedStratifiedKFold.html\n",
    "\tcv = RepeatedStratifiedKFold('''TODO''', '''TODO''', random_state=1)\n",
    "\tscores = cross_val_score(pipeline, X, y, scoring='accuracy', cv=cv, n_jobs=-1)\n",
    "\t# store results\n",
    "\tresults.append(scores)\n",
    "\tprint('>%s %.3f (%.3f)' % (s, mean(scores), std(scores)))\n",
    "# plot model performance for comparison\n",
    "# the green triangle is the mean value\n",
    "# TODO y is the results, x is the number of K for KNN\n",
    "pyplot.boxplot('''TODO''', '''TODO''', showmeans=True)\n",
    "pyplot.show()"
   ]
  },
  {
   "cell_type": "code",
   "execution_count": null,
   "metadata": {},
   "outputs": [],
   "source": []
  }
 ],
 "metadata": {
  "kernelspec": {
   "display_name": "Python 3",
   "language": "python",
   "name": "python3"
  },
  "language_info": {
   "codemirror_mode": {
    "name": "ipython",
    "version": 3
   },
   "file_extension": ".py",
   "mimetype": "text/x-python",
   "name": "python",
   "nbconvert_exporter": "python",
   "pygments_lexer": "ipython3",
   "version": "3.8.10"
  }
 },
 "nbformat": 4,
 "nbformat_minor": 4
}
