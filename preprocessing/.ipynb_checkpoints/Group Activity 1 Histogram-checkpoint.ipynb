{
 "cells": [
  {
   "cell_type": "markdown",
   "metadata": {},
   "source": [
    "# Histogram\n",
    "\n",
    "In this group activity, you are required to fill the TODOs. If you do everything correctly, you should see the graph shows up."
   ]
  },
  {
   "cell_type": "code",
   "execution_count": 2,
   "metadata": {},
   "outputs": [
    {
     "name": "stdout",
     "output_type": "stream",
     "text": [
      "<bound method NDFrame.head of             Date       MSFT      F        BAC\n",
      "0       1/3/2007  29.860001   7.51  53.330002\n",
      "1       1/4/2007  29.809999   7.70  53.669998\n",
      "2       1/5/2007  29.639999   7.62  53.240002\n",
      "3       1/8/2007  29.930000   7.73  53.450001\n",
      "4       1/9/2007  29.959999   7.79  53.500000\n",
      "...          ...        ...    ...        ...\n",
      "2513  12/23/2016  63.240002  12.46  22.600000\n",
      "2514  12/27/2016  63.279999  12.39  22.610001\n",
      "2515  12/28/2016  62.990002  12.25  22.330000\n",
      "2516  12/29/2016  62.900002  12.23  22.000000\n",
      "2517  12/30/2016  62.139999  12.13  22.100000\n",
      "\n",
      "[2518 rows x 4 columns]>\n"
     ]
    }
   ],
   "source": [
    "import numpy as np\n",
    "import matplotlib.pyplot as plt\n",
    "import pandas as pd\n",
    "\n",
    "# load csv file\n",
    "# including Microsoft, Ford Motor Company, and Bank of America\n",
    "df = pd.read_csv('stocks.csv',header=0)\n",
    "print(df.head)\n"
   ]
  },
  {
   "cell_type": "code",
   "execution_count": 5,
   "metadata": {},
   "outputs": [
    {
     "data": {
      "image/png": "[encoded data removed]",
      "text/plain": [
       "<Figure size 432x288 with 1 Axes>"
      ]
     },
     "metadata": {
      "needs_background": "light"
     },
     "output_type": "display_data"
    }
   ],
   "source": [
    "# use Microsoft data from the csv file\n",
    "X = # TODO\n",
    "\n",
    "\n",
    "# draw the histogram of the data\n",
    "# REQUIREMENTs: bins should be 50\n",
    "# color should be green\n",
    "# \n",
    "n, bins, patches = plt.hist('''TODO''')\n",
    "\n",
    "\n",
    "# TODO defines title, xlabel, ylabel\n",
    "plt.grid(True)\n",
    "plt.show()"
   ]
  },
  {
   "cell_type": "code",
   "execution_count": null,
   "metadata": {},
   "outputs": [],
   "source": []
  }
 ],
 "metadata": {
  "kernelspec": {
   "display_name": "Python 3",
   "language": "python",
   "name": "python3"
  },
  "language_info": {
   "codemirror_mode": {
    "name": "ipython",
    "version": 3
   },
   "file_extension": ".py",
   "mimetype": "text/x-python",
   "name": "python",
   "nbconvert_exporter": "python",
   "pygments_lexer": "ipython3",
   "version": "3.8.10"
  }
 },
 "nbformat": 4,
 "nbformat_minor": 4
}
