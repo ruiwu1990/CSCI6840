{
 "cells": [
  {
   "cell_type": "markdown",
   "metadata": {},
   "source": [
    "# Preprocessing\n",
    "\n",
    "In this jupyter notebook, I will show you how to implement concepts introduced in the slides.\n",
    "\n",
    "## Mean, Median, Mode, Variance, and Standard Deviation"
   ]
  },
  {
   "cell_type": "code",
   "execution_count": 1,
   "metadata": {},
   "outputs": [
    {
     "name": "stdout",
     "output_type": "stream",
     "text": [
      "<bound method NDFrame.head of             Date       MSFT      F        BAC\n",
      "0       1/3/2007  29.860001   7.51  53.330002\n",
      "1       1/4/2007  29.809999   7.70  53.669998\n",
      "2       1/5/2007  29.639999   7.62  53.240002\n",
      "3       1/8/2007  29.930000   7.73  53.450001\n",
      "4       1/9/2007  29.959999   7.79  53.500000\n",
      "...          ...        ...    ...        ...\n",
      "2513  12/23/2016  63.240002  12.46  22.600000\n",
      "2514  12/27/2016  63.279999  12.39  22.610001\n",
      "2515  12/28/2016  62.990002  12.25  22.330000\n",
      "2516  12/29/2016  62.900002  12.23  22.000000\n",
      "2517  12/30/2016  62.139999  12.13  22.100000\n",
      "\n",
      "[2518 rows x 4 columns]>\n"
     ]
    }
   ],
   "source": [
    "import pandas as pd\n",
    "import numpy as np\n",
    "\n",
    "# load csv file\n",
    "# including Microsoft, Ford Motor Company, and Bank of America\n",
    "df = pd.read_csv('stocks.csv',header=0)\n",
    "print(df.head)"
   ]
  },
  {
   "cell_type": "code",
   "execution_count": 2,
   "metadata": {},
   "outputs": [
    {
     "name": "stdout",
     "output_type": "stream",
     "text": [
      "[29.860001 29.809999 29.639999 29.93     29.959999]\n"
     ]
    }
   ],
   "source": [
    "# grab values of microsoft and convert it as np array\n",
    "ms = df['MSFT'].values\n",
    "print(ms[:5])"
   ]
  },
  {
   "cell_type": "code",
   "execution_count": 10,
   "metadata": {},
   "outputs": [
    {
     "name": "stdout",
     "output_type": "stream",
     "text": [
      "Mean of List A is 23.333333333333332\n",
      "Mean of Microsoft is 33.99398729626688\n"
     ]
    }
   ],
   "source": [
    "# calcualte mean\n",
    "from statistics import mean\n",
    "A = [10, 20, 20, 30, 30 ,30]\n",
    "print(\"Mean of List A is % s\" % mean(A))\n",
    "\n",
    "ms_mean = mean(ms)\n",
    "print(\"Mean of Microsoft is % s\" % ms_mean)"
   ]
  },
  {
   "cell_type": "code",
   "execution_count": 13,
   "metadata": {},
   "outputs": [
    {
     "name": "stdout",
     "output_type": "stream",
     "text": [
      "Median of List A is 25.0\n",
      "Median of List A is 20\n",
      "Mode of Microsoft is 29.98\n"
     ]
    }
   ],
   "source": [
    "# calculate median\n",
    "from statistics import median\n",
    "A = [10, 20, 20, 30, 30 ,30]\n",
    "print(\"Median of List A is % s\" % median(A))\n",
    "B = [10, 20, 20, 30, 30]\n",
    "print(\"Median of List B is % s\" % median(B))\n",
    "ms_median = median(ms)\n",
    "print(\"Mode of Microsoft is % s\" % (ms_median))"
   ]
  },
  {
   "cell_type": "code",
   "execution_count": 4,
   "metadata": {},
   "outputs": [
    {
     "name": "stdout",
     "output_type": "stream",
     "text": [
      "[(30, 3), (20, 2), (10, 1)]\n",
      "Mode of List A is 30\n",
      "Mode of Microsoft is 28.629998999999998\n"
     ]
    }
   ],
   "source": [
    "# calculate mode\n",
    "from collections import Counter\n",
    "# calculate Mean, Median, Mode, Variance, and Standard Deviation\n",
    "A = [10, 20, 20, 30, 30 ,30]\n",
    "Elements_with_frequency = Counter(A)\n",
    "print(Elements_with_frequency.most_common())\n",
    "print(\"Mode of List A is % s\" % (Counter(A).most_common(1)[0][0]))\n",
    "\n",
    "ms_mode = Counter(ms).most_common(1)[0][0]\n",
    "print(\"Mode of Microsoft is % s\" % (ms_mode))"
   ]
  },
  {
   "cell_type": "code",
   "execution_count": 17,
   "metadata": {},
   "outputs": [
    {
     "name": "stdout",
     "output_type": "stream",
     "text": [
      "Variance of List A is 66.66666666666666\n",
      "SD of List A is 8.164965809277259\n",
      "Variance of Microsoft is 111.29778789438215\n",
      "SD of Microsoft is 10.549776675095172\n"
     ]
    }
   ],
   "source": [
    "# calculate variance and SD\n",
    "from statistics import variance, stdev\n",
    "\n",
    "A = [10, 20, 20, 30, 30 ,30]\n",
    "print(\"Variance of List A is % s\" % variance(A))\n",
    "print(\"SD of List A is % s\" % stdev(A))\n",
    "\n",
    "ms_var = variance(ms)\n",
    "ms_sd = stdev(ms)\n",
    "print(\"Variance of Microsoft is % s\" % ms_var)\n",
    "print(\"SD of Microsoft is % s\" % ms_sd)"
   ]
  },
  {
   "cell_type": "code",
   "execution_count": null,
   "metadata": {},
   "outputs": [],
   "source": []
  }
 ],
 "metadata": {
  "kernelspec": {
   "display_name": "Python 3",
   "language": "python",
   "name": "python3"
  },
  "language_info": {
   "codemirror_mode": {
    "name": "ipython",
    "version": 3
   },
   "file_extension": ".py",
   "mimetype": "text/x-python",
   "name": "python",
   "nbconvert_exporter": "python",
   "pygments_lexer": "ipython3",
   "version": "3.6.9"
  }
 },
 "nbformat": 4,
 "nbformat_minor": 4
}
